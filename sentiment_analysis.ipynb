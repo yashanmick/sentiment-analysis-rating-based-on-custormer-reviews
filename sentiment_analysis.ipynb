{
  "nbformat": 4,
  "nbformat_minor": 0,
  "metadata": {
    "colab": {
      "name": "sentiment_analysis.ipynb",
      "provenance": [],
      "authorship_tag": "ABX9TyNoIFMapAHE+Bl7XMoRh3qK"
    },
    "kernelspec": {
      "name": "python3",
      "display_name": "Python 3"
    },
    "language_info": {
      "name": "python"
    }
  },
  "cells": [
    {
      "cell_type": "code",
      "metadata": {
        "id": "YBovo-jrNmiW"
      },
      "source": [
        "#1 - Cleaning Text Steps\n",
        "    #1 - create a text file and take test from it\n",
        "    #2 - convert the letter into lowercase \n",
        "    #3 - remove punctuations like .,!? (Hi! This is mick."
      ],
      "execution_count": 202,
      "outputs": []
    },
    {
      "cell_type": "code",
      "metadata": {
        "colab": {
          "base_uri": "https://localhost:8080/"
        },
        "id": "MKeHN3hLO6zK",
        "outputId": "191b6cc4-e307-4d6b-d07e-2d9860b7baeb"
      },
      "source": [
        "#run this to download all required NLP packages/components\n",
        "import nltk\n",
        "nltk.download('punkt')  #import word_tokenize func\n",
        "nltk.download('stopwords')  #import stopwords\n",
        "nltk.download('vader_lexicon')  #import sentiment_analyse func"
      ],
      "execution_count": 203,
      "outputs": [
        {
          "output_type": "stream",
          "text": [
            "[nltk_data] Downloading package punkt to /root/nltk_data...\n",
            "[nltk_data]   Package punkt is already up-to-date!\n",
            "[nltk_data] Downloading package stopwords to /root/nltk_data...\n",
            "[nltk_data]   Package stopwords is already up-to-date!\n",
            "[nltk_data] Downloading package vader_lexicon to /root/nltk_data...\n",
            "[nltk_data]   Package vader_lexicon is already up-to-date!\n"
          ],
          "name": "stdout"
        },
        {
          "output_type": "execute_result",
          "data": {
            "text/plain": [
              "True"
            ]
          },
          "metadata": {
            "tags": []
          },
          "execution_count": 203
        }
      ]
    },
    {
      "cell_type": "code",
      "metadata": {
        "id": "c29_0Y67N14R"
      },
      "source": [
        "import string\n",
        "from collections import Counter\n",
        "from nltk.tokenize import word_tokenize\n",
        "from nltk.corpus import stopwords   #this has all stopwords in many language\n",
        "from nltk.sentiment.vader import SentimentIntensityAnalyzer\n",
        "import matplotlib.pyplot as plt"
      ],
      "execution_count": 204,
      "outputs": []
    },
    {
      "cell_type": "code",
      "metadata": {
        "id": "XT7wLW7YTfOI"
      },
      "source": [
        "import pandas as pd\n",
        "import numpy as np"
      ],
      "execution_count": 205,
      "outputs": []
    },
    {
      "cell_type": "code",
      "metadata": {
        "colab": {
          "base_uri": "https://localhost:8080/",
          "height": 195
        },
        "id": "7nk7b7sOTZdg",
        "outputId": "487386dd-bbd7-4e3a-c606-f77b4dd7f7a5"
      },
      "source": [
        "data = pd.read_csv('comment1.csv')\n",
        "data.head()"
      ],
      "execution_count": 206,
      "outputs": [
        {
          "output_type": "execute_result",
          "data": {
            "text/html": [
              "<div>\n",
              "<style scoped>\n",
              "    .dataframe tbody tr th:only-of-type {\n",
              "        vertical-align: middle;\n",
              "    }\n",
              "\n",
              "    .dataframe tbody tr th {\n",
              "        vertical-align: top;\n",
              "    }\n",
              "\n",
              "    .dataframe thead th {\n",
              "        text-align: right;\n",
              "    }\n",
              "</style>\n",
              "<table border=\"1\" class=\"dataframe\">\n",
              "  <thead>\n",
              "    <tr style=\"text-align: right;\">\n",
              "      <th></th>\n",
              "      <th>UserName</th>\n",
              "      <th>Comment</th>\n",
              "    </tr>\n",
              "  </thead>\n",
              "  <tbody>\n",
              "    <tr>\n",
              "      <th>0</th>\n",
              "      <td>KarunarathneKK</td>\n",
              "      <td>His work is very neat</td>\n",
              "    </tr>\n",
              "    <tr>\n",
              "      <th>1</th>\n",
              "      <td>NimalNL</td>\n",
              "      <td>He works dedicatively</td>\n",
              "    </tr>\n",
              "    <tr>\n",
              "      <th>2</th>\n",
              "      <td>ThilakarathneTT</td>\n",
              "      <td>His works are on time</td>\n",
              "    </tr>\n",
              "    <tr>\n",
              "      <th>3</th>\n",
              "      <td>KamalK1</td>\n",
              "      <td>His works aren't very good</td>\n",
              "    </tr>\n",
              "    <tr>\n",
              "      <th>4</th>\n",
              "      <td>NamalNA</td>\n",
              "      <td>He works dedicatively</td>\n",
              "    </tr>\n",
              "  </tbody>\n",
              "</table>\n",
              "</div>"
            ],
            "text/plain": [
              "          UserName                     Comment\n",
              "0   KarunarathneKK       His work is very neat\n",
              "1          NimalNL       He works dedicatively\n",
              "2  ThilakarathneTT       His works are on time\n",
              "3          KamalK1  His works aren't very good\n",
              "4          NamalNA       He works dedicatively"
            ]
          },
          "metadata": {
            "tags": []
          },
          "execution_count": 206
        }
      ]
    },
    {
      "cell_type": "code",
      "metadata": {
        "colab": {
          "base_uri": "https://localhost:8080/"
        },
        "id": "1K25eXvjTyNA",
        "outputId": "c44e24aa-b131-4d26-fecc-0266518910db"
      },
      "source": [
        "data.columns"
      ],
      "execution_count": 207,
      "outputs": [
        {
          "output_type": "execute_result",
          "data": {
            "text/plain": [
              "Index(['UserName', 'Comment'], dtype='object')"
            ]
          },
          "metadata": {
            "tags": []
          },
          "execution_count": 207
        }
      ]
    },
    {
      "cell_type": "code",
      "metadata": {
        "colab": {
          "base_uri": "https://localhost:8080/"
        },
        "id": "FB37KIUeT_UZ",
        "outputId": "d7d51c39-a98f-41fc-fd79-3d39e008e90b"
      },
      "source": [
        "len(data)"
      ],
      "execution_count": 208,
      "outputs": [
        {
          "output_type": "execute_result",
          "data": {
            "text/plain": [
              "24"
            ]
          },
          "metadata": {
            "tags": []
          },
          "execution_count": 208
        }
      ]
    },
    {
      "cell_type": "code",
      "metadata": {
        "colab": {
          "base_uri": "https://localhost:8080/",
          "height": 195
        },
        "id": "WPNOqWavODqj",
        "outputId": "727f7e09-c51d-4e41-834c-c53ffd920eeb"
      },
      "source": [
        "#convert to lovercase\n",
        "data[\"Comment\"] = data[\"Comment\"].str.lower()\n",
        "data.head()"
      ],
      "execution_count": 209,
      "outputs": [
        {
          "output_type": "execute_result",
          "data": {
            "text/html": [
              "<div>\n",
              "<style scoped>\n",
              "    .dataframe tbody tr th:only-of-type {\n",
              "        vertical-align: middle;\n",
              "    }\n",
              "\n",
              "    .dataframe tbody tr th {\n",
              "        vertical-align: top;\n",
              "    }\n",
              "\n",
              "    .dataframe thead th {\n",
              "        text-align: right;\n",
              "    }\n",
              "</style>\n",
              "<table border=\"1\" class=\"dataframe\">\n",
              "  <thead>\n",
              "    <tr style=\"text-align: right;\">\n",
              "      <th></th>\n",
              "      <th>UserName</th>\n",
              "      <th>Comment</th>\n",
              "    </tr>\n",
              "  </thead>\n",
              "  <tbody>\n",
              "    <tr>\n",
              "      <th>0</th>\n",
              "      <td>KarunarathneKK</td>\n",
              "      <td>his work is very neat</td>\n",
              "    </tr>\n",
              "    <tr>\n",
              "      <th>1</th>\n",
              "      <td>NimalNL</td>\n",
              "      <td>he works dedicatively</td>\n",
              "    </tr>\n",
              "    <tr>\n",
              "      <th>2</th>\n",
              "      <td>ThilakarathneTT</td>\n",
              "      <td>his works are on time</td>\n",
              "    </tr>\n",
              "    <tr>\n",
              "      <th>3</th>\n",
              "      <td>KamalK1</td>\n",
              "      <td>his works aren't very good</td>\n",
              "    </tr>\n",
              "    <tr>\n",
              "      <th>4</th>\n",
              "      <td>NamalNA</td>\n",
              "      <td>he works dedicatively</td>\n",
              "    </tr>\n",
              "  </tbody>\n",
              "</table>\n",
              "</div>"
            ],
            "text/plain": [
              "          UserName                     Comment\n",
              "0   KarunarathneKK       his work is very neat\n",
              "1          NimalNL       he works dedicatively\n",
              "2  ThilakarathneTT       his works are on time\n",
              "3          KamalK1  his works aren't very good\n",
              "4          NamalNA       he works dedicatively"
            ]
          },
          "metadata": {
            "tags": []
          },
          "execution_count": 209
        }
      ]
    },
    {
      "cell_type": "code",
      "metadata": {
        "id": "hbOzv7ISPwp1"
      },
      "source": [
        "#removing punctuations\n",
        "data['Comment'] = data['Comment'].apply(lambda x:''.join([i for i in x if i not in string.punctuation]))\n",
        "\n",
        "# clean_text = lower_case.translate(str.maketrans('','',string.punctuation))\n",
        "#clean_text = lower_case.translate(str.maketrans('l,o,i','x,y,z',string.punctuation))\n",
        "    #str1 : Specifies the list of characters that need to be replaced.\n",
        "    #str2 : Specifies the list of characters with which the characters need to be replaced.\n",
        "    #str3 : Specifies the list of characters that needs to be deleted.\n",
        "    #\n",
        "    #Returns : Returns the translation table which specifies the conversions that can be used"
      ],
      "execution_count": 210,
      "outputs": []
    },
    {
      "cell_type": "code",
      "metadata": {
        "colab": {
          "base_uri": "https://localhost:8080/",
          "height": 195
        },
        "id": "VKyc8V2OV8af",
        "outputId": "b07d503c-4d55-4cc2-dc19-09016b1e9c8d"
      },
      "source": [
        "data.head()"
      ],
      "execution_count": 211,
      "outputs": [
        {
          "output_type": "execute_result",
          "data": {
            "text/html": [
              "<div>\n",
              "<style scoped>\n",
              "    .dataframe tbody tr th:only-of-type {\n",
              "        vertical-align: middle;\n",
              "    }\n",
              "\n",
              "    .dataframe tbody tr th {\n",
              "        vertical-align: top;\n",
              "    }\n",
              "\n",
              "    .dataframe thead th {\n",
              "        text-align: right;\n",
              "    }\n",
              "</style>\n",
              "<table border=\"1\" class=\"dataframe\">\n",
              "  <thead>\n",
              "    <tr style=\"text-align: right;\">\n",
              "      <th></th>\n",
              "      <th>UserName</th>\n",
              "      <th>Comment</th>\n",
              "    </tr>\n",
              "  </thead>\n",
              "  <tbody>\n",
              "    <tr>\n",
              "      <th>0</th>\n",
              "      <td>KarunarathneKK</td>\n",
              "      <td>his work is very neat</td>\n",
              "    </tr>\n",
              "    <tr>\n",
              "      <th>1</th>\n",
              "      <td>NimalNL</td>\n",
              "      <td>he works dedicatively</td>\n",
              "    </tr>\n",
              "    <tr>\n",
              "      <th>2</th>\n",
              "      <td>ThilakarathneTT</td>\n",
              "      <td>his works are on time</td>\n",
              "    </tr>\n",
              "    <tr>\n",
              "      <th>3</th>\n",
              "      <td>KamalK1</td>\n",
              "      <td>his works arent very good</td>\n",
              "    </tr>\n",
              "    <tr>\n",
              "      <th>4</th>\n",
              "      <td>NamalNA</td>\n",
              "      <td>he works dedicatively</td>\n",
              "    </tr>\n",
              "  </tbody>\n",
              "</table>\n",
              "</div>"
            ],
            "text/plain": [
              "          UserName                    Comment\n",
              "0   KarunarathneKK      his work is very neat\n",
              "1          NimalNL      he works dedicatively\n",
              "2  ThilakarathneTT      his works are on time\n",
              "3          KamalK1  his works arent very good\n",
              "4          NamalNA      he works dedicatively"
            ]
          },
          "metadata": {
            "tags": []
          },
          "execution_count": 211
        }
      ]
    },
    {
      "cell_type": "code",
      "metadata": {
        "id": "YLxZbQ5cP0MU"
      },
      "source": [
        "#2 - tokenization\n",
        "#how to break up the sentence to words\n",
        "\n",
        "#tokenized_words = clean_text.split()\n",
        "#split() takes lot of time to analyze\n",
        "#split() can be done using nltk\n",
        "# tokenized_words = word_tokenize(clean_text,'english')\n",
        "data['Comment'] = data.apply(lambda row: nltk.word_tokenize(row['Comment']), axis=1)"
      ],
      "execution_count": 212,
      "outputs": []
    },
    {
      "cell_type": "code",
      "metadata": {
        "colab": {
          "base_uri": "https://localhost:8080/",
          "height": 195
        },
        "id": "LM0euvGmQ2Kw",
        "outputId": "9dcd004e-277d-4dcd-e6fe-1829db51863e"
      },
      "source": [
        "data.head()"
      ],
      "execution_count": 213,
      "outputs": [
        {
          "output_type": "execute_result",
          "data": {
            "text/html": [
              "<div>\n",
              "<style scoped>\n",
              "    .dataframe tbody tr th:only-of-type {\n",
              "        vertical-align: middle;\n",
              "    }\n",
              "\n",
              "    .dataframe tbody tr th {\n",
              "        vertical-align: top;\n",
              "    }\n",
              "\n",
              "    .dataframe thead th {\n",
              "        text-align: right;\n",
              "    }\n",
              "</style>\n",
              "<table border=\"1\" class=\"dataframe\">\n",
              "  <thead>\n",
              "    <tr style=\"text-align: right;\">\n",
              "      <th></th>\n",
              "      <th>UserName</th>\n",
              "      <th>Comment</th>\n",
              "    </tr>\n",
              "  </thead>\n",
              "  <tbody>\n",
              "    <tr>\n",
              "      <th>0</th>\n",
              "      <td>KarunarathneKK</td>\n",
              "      <td>[his, work, is, very, neat]</td>\n",
              "    </tr>\n",
              "    <tr>\n",
              "      <th>1</th>\n",
              "      <td>NimalNL</td>\n",
              "      <td>[he, works, dedicatively]</td>\n",
              "    </tr>\n",
              "    <tr>\n",
              "      <th>2</th>\n",
              "      <td>ThilakarathneTT</td>\n",
              "      <td>[his, works, are, on, time]</td>\n",
              "    </tr>\n",
              "    <tr>\n",
              "      <th>3</th>\n",
              "      <td>KamalK1</td>\n",
              "      <td>[his, works, arent, very, good]</td>\n",
              "    </tr>\n",
              "    <tr>\n",
              "      <th>4</th>\n",
              "      <td>NamalNA</td>\n",
              "      <td>[he, works, dedicatively]</td>\n",
              "    </tr>\n",
              "  </tbody>\n",
              "</table>\n",
              "</div>"
            ],
            "text/plain": [
              "          UserName                          Comment\n",
              "0   KarunarathneKK      [his, work, is, very, neat]\n",
              "1          NimalNL        [he, works, dedicatively]\n",
              "2  ThilakarathneTT      [his, works, are, on, time]\n",
              "3          KamalK1  [his, works, arent, very, good]\n",
              "4          NamalNA        [he, works, dedicatively]"
            ]
          },
          "metadata": {
            "tags": []
          },
          "execution_count": 213
        }
      ]
    },
    {
      "cell_type": "code",
      "metadata": {
        "id": "M72MVryURGVC"
      },
      "source": [
        "#3 - stop words\n",
        "#words that does not add any meaning to the sentence\n",
        "\n",
        "#instead of using stop_words, we can use nltk.corpus (its a dataset that nltk has)\n",
        "#from that import stopwords (a list of stop_words inside of corpus dataset)"
      ],
      "execution_count": 214,
      "outputs": []
    },
    {
      "cell_type": "code",
      "metadata": {
        "id": "q-lO17yPRHO8"
      },
      "source": [
        "# stop_words = [\"i\", \"me\", \"my\", \"myself\", \"we\", \"our\", \"ours\", \"ourselves\", \"you\", \"your\", \"yours\", \"yourself\",\n",
        "#               \"yourselves\", \"he\", \"him\", \"his\", \"himself\", \"she\", \"her\", \"hers\", \"herself\", \"it\", \"its\", \"itself\",\n",
        "#               \"they\", \"them\", \"their\", \"theirs\", \"themselves\", \"what\", \"which\", \"who\", \"whom\", \"this\", \"that\", \"these\",\n",
        "#               \"those\", \"am\", \"is\", \"are\", \"was\", \"were\", \"be\", \"been\", \"being\", \"have\", \"has\", \"had\", \"having\", \"do\",\n",
        "#               \"does\", \"did\", \"doing\", \"a\", \"an\", \"the\", \"and\", \"but\", \"if\", \"or\", \"because\", \"as\", \"until\", \"while\",\n",
        "#               \"of\", \"at\", \"by\", \"for\", \"with\", \"about\", \"against\", \"between\", \"into\", \"through\", \"during\", \"before\",\n",
        "#               \"after\", \"above\", \"below\", \"to\", \"from\", \"up\", \"down\", \"in\", \"out\", \"on\", \"off\", \"over\", \"under\", \"again\",\n",
        "#               \"further\", \"then\", \"once\", \"here\", \"there\", \"when\", \"where\", \"why\", \"how\", \"all\", \"any\", \"both\", \"each\",\n",
        "#               \"few\", \"more\", \"most\", \"other\", \"some\", \"such\", \"no\", \"nor\", \"not\", \"only\", \"own\", \"same\", \"so\", \"than\",\n",
        "#               \"too\", \"very\", \"s\", \"t\", \"can\", \"will\", \"just\", \"don\", \"should\", \"now\"]"
      ],
      "execution_count": 215,
      "outputs": []
    },
    {
      "cell_type": "code",
      "metadata": {
        "id": "2YsGBIgKRMwd"
      },
      "source": [
        "#4 - Eliminating stop words\n",
        "stop_words = stopwords.words('english')\n",
        "\n",
        "data[\"Comment\"] = data['Comment'].apply(lambda x: [item for item in x if item not in stop_words])\n",
        "\n",
        "\n",
        "#5 - NPL Emotion Algorithm\n",
        "    #1 - check if the word in the final word list is also present in emotion.txt\n",
        "        # open the emotion file\n",
        "        # loop through each line and clear it\n",
        "        # extract the word and emotion using split\n",
        "\n",
        "    #2 - if word is present -> add the emotion to emotion_list\n",
        "    #3 - finally count each emotion in the emotion_list"
      ],
      "execution_count": 216,
      "outputs": []
    },
    {
      "cell_type": "code",
      "metadata": {
        "colab": {
          "base_uri": "https://localhost:8080/",
          "height": 195
        },
        "id": "7Kr-jL6ZZAU0",
        "outputId": "8f8785dc-96f5-41a7-8ac6-c3968bd40acc"
      },
      "source": [
        "data.head()"
      ],
      "execution_count": 217,
      "outputs": [
        {
          "output_type": "execute_result",
          "data": {
            "text/html": [
              "<div>\n",
              "<style scoped>\n",
              "    .dataframe tbody tr th:only-of-type {\n",
              "        vertical-align: middle;\n",
              "    }\n",
              "\n",
              "    .dataframe tbody tr th {\n",
              "        vertical-align: top;\n",
              "    }\n",
              "\n",
              "    .dataframe thead th {\n",
              "        text-align: right;\n",
              "    }\n",
              "</style>\n",
              "<table border=\"1\" class=\"dataframe\">\n",
              "  <thead>\n",
              "    <tr style=\"text-align: right;\">\n",
              "      <th></th>\n",
              "      <th>UserName</th>\n",
              "      <th>Comment</th>\n",
              "    </tr>\n",
              "  </thead>\n",
              "  <tbody>\n",
              "    <tr>\n",
              "      <th>0</th>\n",
              "      <td>KarunarathneKK</td>\n",
              "      <td>[work, neat]</td>\n",
              "    </tr>\n",
              "    <tr>\n",
              "      <th>1</th>\n",
              "      <td>NimalNL</td>\n",
              "      <td>[works, dedicatively]</td>\n",
              "    </tr>\n",
              "    <tr>\n",
              "      <th>2</th>\n",
              "      <td>ThilakarathneTT</td>\n",
              "      <td>[works, time]</td>\n",
              "    </tr>\n",
              "    <tr>\n",
              "      <th>3</th>\n",
              "      <td>KamalK1</td>\n",
              "      <td>[works, arent, good]</td>\n",
              "    </tr>\n",
              "    <tr>\n",
              "      <th>4</th>\n",
              "      <td>NamalNA</td>\n",
              "      <td>[works, dedicatively]</td>\n",
              "    </tr>\n",
              "  </tbody>\n",
              "</table>\n",
              "</div>"
            ],
            "text/plain": [
              "          UserName                Comment\n",
              "0   KarunarathneKK           [work, neat]\n",
              "1          NimalNL  [works, dedicatively]\n",
              "2  ThilakarathneTT          [works, time]\n",
              "3          KamalK1   [works, arent, good]\n",
              "4          NamalNA  [works, dedicatively]"
            ]
          },
          "metadata": {
            "tags": []
          },
          "execution_count": 217
        }
      ]
    },
    {
      "cell_type": "code",
      "metadata": {
        "id": "p4yQ7AUWaCx_"
      },
      "source": [
        "from textblob import TextBlob"
      ],
      "execution_count": 218,
      "outputs": []
    },
    {
      "cell_type": "code",
      "metadata": {
        "colab": {
          "base_uri": "https://localhost:8080/"
        },
        "id": "XEbPMQVaea-j",
        "outputId": "4d31f44b-d21e-4494-ca42-bd273ccca0ad"
      },
      "source": [
        "data.dtypes"
      ],
      "execution_count": 219,
      "outputs": [
        {
          "output_type": "execute_result",
          "data": {
            "text/plain": [
              "UserName    object\n",
              "Comment     object\n",
              "dtype: object"
            ]
          },
          "metadata": {
            "tags": []
          },
          "execution_count": 219
        }
      ]
    },
    {
      "cell_type": "code",
      "metadata": {
        "id": "MEGCO_NDgKDX"
      },
      "source": [
        "data[\"Comment\"]= data[\"Comment\"].apply(str)"
      ],
      "execution_count": 220,
      "outputs": []
    },
    {
      "cell_type": "code",
      "metadata": {
        "colab": {
          "base_uri": "https://localhost:8080/"
        },
        "id": "qD7-ycMlg5r4",
        "outputId": "752a4ed0-b58b-4190-a37d-24902183a32b"
      },
      "source": [
        "data.dtypes"
      ],
      "execution_count": 221,
      "outputs": [
        {
          "output_type": "execute_result",
          "data": {
            "text/plain": [
              "UserName    object\n",
              "Comment     object\n",
              "dtype: object"
            ]
          },
          "metadata": {
            "tags": []
          },
          "execution_count": 221
        }
      ]
    },
    {
      "cell_type": "code",
      "metadata": {
        "colab": {
          "base_uri": "https://localhost:8080/"
        },
        "id": "hwUF7ftqfstG",
        "outputId": "45deb4bd-f171-43d2-9446-bd359b004a6a"
      },
      "source": [
        "type(data)"
      ],
      "execution_count": 222,
      "outputs": [
        {
          "output_type": "execute_result",
          "data": {
            "text/plain": [
              "pandas.core.frame.DataFrame"
            ]
          },
          "metadata": {
            "tags": []
          },
          "execution_count": 222
        }
      ]
    },
    {
      "cell_type": "code",
      "metadata": {
        "id": "uhI0901BfAfM"
      },
      "source": [
        "# analyzer = SentimentIntensityAnalyzer()\n",
        "# data['Rating'] = [analyzer.polarity_scores(x)['Rating'] for x in data['Comment']]"
      ],
      "execution_count": 223,
      "outputs": []
    },
    {
      "cell_type": "code",
      "metadata": {
        "id": "YMou-pfOaFEw"
      },
      "source": [
        "data['sentiment']= data['Comment'].apply(lambda comment: TextBlob(comment).sentiment)"
      ],
      "execution_count": 224,
      "outputs": []
    },
    {
      "cell_type": "code",
      "metadata": {
        "id": "3ZNXctNodFbg"
      },
      "source": [
        "# def sentiment_calc(comment):\n",
        "#     try:\n",
        "#         return TextBlob(comment).sentiment\n",
        "#     except:\n",
        "#         return None\n",
        "\n",
        "# data['sentiment'] = data['Comment'].apply(sentiment_calc)"
      ],
      "execution_count": 225,
      "outputs": []
    },
    {
      "cell_type": "code",
      "metadata": {
        "colab": {
          "base_uri": "https://localhost:8080/",
          "height": 758
        },
        "id": "9gHFGSx0dQVu",
        "outputId": "4b63d89b-5429-42db-a61b-ec5e0098aa5f"
      },
      "source": [
        "data"
      ],
      "execution_count": 226,
      "outputs": [
        {
          "output_type": "execute_result",
          "data": {
            "text/html": [
              "<div>\n",
              "<style scoped>\n",
              "    .dataframe tbody tr th:only-of-type {\n",
              "        vertical-align: middle;\n",
              "    }\n",
              "\n",
              "    .dataframe tbody tr th {\n",
              "        vertical-align: top;\n",
              "    }\n",
              "\n",
              "    .dataframe thead th {\n",
              "        text-align: right;\n",
              "    }\n",
              "</style>\n",
              "<table border=\"1\" class=\"dataframe\">\n",
              "  <thead>\n",
              "    <tr style=\"text-align: right;\">\n",
              "      <th></th>\n",
              "      <th>UserName</th>\n",
              "      <th>Comment</th>\n",
              "      <th>sentiment</th>\n",
              "    </tr>\n",
              "  </thead>\n",
              "  <tbody>\n",
              "    <tr>\n",
              "      <th>0</th>\n",
              "      <td>KarunarathneKK</td>\n",
              "      <td>['work', 'neat']</td>\n",
              "      <td>(0.0, 0.0)</td>\n",
              "    </tr>\n",
              "    <tr>\n",
              "      <th>1</th>\n",
              "      <td>NimalNL</td>\n",
              "      <td>['works', 'dedicatively']</td>\n",
              "      <td>(0.0, 0.0)</td>\n",
              "    </tr>\n",
              "    <tr>\n",
              "      <th>2</th>\n",
              "      <td>ThilakarathneTT</td>\n",
              "      <td>['works', 'time']</td>\n",
              "      <td>(0.0, 0.0)</td>\n",
              "    </tr>\n",
              "    <tr>\n",
              "      <th>3</th>\n",
              "      <td>KamalK1</td>\n",
              "      <td>['works', 'arent', 'good']</td>\n",
              "      <td>(0.7, 0.6000000000000001)</td>\n",
              "    </tr>\n",
              "    <tr>\n",
              "      <th>4</th>\n",
              "      <td>NamalNA</td>\n",
              "      <td>['works', 'dedicatively']</td>\n",
              "      <td>(0.0, 0.0)</td>\n",
              "    </tr>\n",
              "    <tr>\n",
              "      <th>5</th>\n",
              "      <td>SiripalaSI</td>\n",
              "      <td>['works', 'neat']</td>\n",
              "      <td>(0.0, 0.0)</td>\n",
              "    </tr>\n",
              "    <tr>\n",
              "      <th>6</th>\n",
              "      <td>SomapalaSO</td>\n",
              "      <td>['good', 'worker']</td>\n",
              "      <td>(0.7, 0.6000000000000001)</td>\n",
              "    </tr>\n",
              "    <tr>\n",
              "      <th>7</th>\n",
              "      <td>Somadhasa55</td>\n",
              "      <td>['works', 'well']</td>\n",
              "      <td>(0.0, 0.0)</td>\n",
              "    </tr>\n",
              "    <tr>\n",
              "      <th>8</th>\n",
              "      <td>SanathS11</td>\n",
              "      <td>['bad']</td>\n",
              "      <td>(-0.6999999999999998, 0.6666666666666666)</td>\n",
              "    </tr>\n",
              "    <tr>\n",
              "      <th>9</th>\n",
              "      <td>KumaraKA</td>\n",
              "      <td>['punctual']</td>\n",
              "      <td>(0.0, 0.0)</td>\n",
              "    </tr>\n",
              "    <tr>\n",
              "      <th>10</th>\n",
              "      <td>SiridhasaSSS</td>\n",
              "      <td>['honest']</td>\n",
              "      <td>(0.6, 0.9)</td>\n",
              "    </tr>\n",
              "    <tr>\n",
              "      <th>11</th>\n",
              "      <td>ThilakadhasaTH</td>\n",
              "      <td>['good']</td>\n",
              "      <td>(0.7, 0.6000000000000001)</td>\n",
              "    </tr>\n",
              "    <tr>\n",
              "      <th>12</th>\n",
              "      <td>Sumanadhasa65</td>\n",
              "      <td>['creative']</td>\n",
              "      <td>(0.5, 1.0)</td>\n",
              "    </tr>\n",
              "    <tr>\n",
              "      <th>13</th>\n",
              "      <td>WimaladasaCR</td>\n",
              "      <td>['dedicated', 'worker']</td>\n",
              "      <td>(0.0, 0.0)</td>\n",
              "    </tr>\n",
              "    <tr>\n",
              "      <th>14</th>\n",
              "      <td>Samarapala88</td>\n",
              "      <td>['cheater']</td>\n",
              "      <td>(0.0, 0.0)</td>\n",
              "    </tr>\n",
              "    <tr>\n",
              "      <th>15</th>\n",
              "      <td>WimalWL</td>\n",
              "      <td>['smart', 'work']</td>\n",
              "      <td>(0.21428571428571427, 0.6428571428571429)</td>\n",
              "    </tr>\n",
              "    <tr>\n",
              "      <th>16</th>\n",
              "      <td>NandapalaNA</td>\n",
              "      <td>['fast', 'working']</td>\n",
              "      <td>(0.2, 0.6)</td>\n",
              "    </tr>\n",
              "    <tr>\n",
              "      <th>17</th>\n",
              "      <td>PalithaP44</td>\n",
              "      <td>['good', 'woker']</td>\n",
              "      <td>(0.7, 0.6000000000000001)</td>\n",
              "    </tr>\n",
              "    <tr>\n",
              "      <th>18</th>\n",
              "      <td>SamanS753</td>\n",
              "      <td>['work', 'amazing']</td>\n",
              "      <td>(0.6000000000000001, 0.9)</td>\n",
              "    </tr>\n",
              "    <tr>\n",
              "      <th>19</th>\n",
              "      <td>BimalBBB</td>\n",
              "      <td>['talented']</td>\n",
              "      <td>(0.7, 0.9)</td>\n",
              "    </tr>\n",
              "    <tr>\n",
              "      <th>20</th>\n",
              "      <td>RajithaR22</td>\n",
              "      <td>['experienced', 'worker']</td>\n",
              "      <td>(0.8, 0.9)</td>\n",
              "    </tr>\n",
              "    <tr>\n",
              "      <th>21</th>\n",
              "      <td>KolithaKO3</td>\n",
              "      <td>['creative', 'smart', 'work']</td>\n",
              "      <td>(0.35714285714285715, 0.8214285714285714)</td>\n",
              "    </tr>\n",
              "    <tr>\n",
              "      <th>22</th>\n",
              "      <td>RathnasiriR456</td>\n",
              "      <td>['good', 'experienced', 'worker']</td>\n",
              "      <td>(0.75, 0.75)</td>\n",
              "    </tr>\n",
              "    <tr>\n",
              "      <th>23</th>\n",
              "      <td>SiriwardanaSDF</td>\n",
              "      <td>['work', 'amazing']</td>\n",
              "      <td>(0.6000000000000001, 0.9)</td>\n",
              "    </tr>\n",
              "  </tbody>\n",
              "</table>\n",
              "</div>"
            ],
            "text/plain": [
              "           UserName  ...                                  sentiment\n",
              "0    KarunarathneKK  ...                                 (0.0, 0.0)\n",
              "1           NimalNL  ...                                 (0.0, 0.0)\n",
              "2   ThilakarathneTT  ...                                 (0.0, 0.0)\n",
              "3           KamalK1  ...                  (0.7, 0.6000000000000001)\n",
              "4           NamalNA  ...                                 (0.0, 0.0)\n",
              "5        SiripalaSI  ...                                 (0.0, 0.0)\n",
              "6        SomapalaSO  ...                  (0.7, 0.6000000000000001)\n",
              "7       Somadhasa55  ...                                 (0.0, 0.0)\n",
              "8         SanathS11  ...  (-0.6999999999999998, 0.6666666666666666)\n",
              "9          KumaraKA  ...                                 (0.0, 0.0)\n",
              "10     SiridhasaSSS  ...                                 (0.6, 0.9)\n",
              "11   ThilakadhasaTH  ...                  (0.7, 0.6000000000000001)\n",
              "12    Sumanadhasa65  ...                                 (0.5, 1.0)\n",
              "13     WimaladasaCR  ...                                 (0.0, 0.0)\n",
              "14     Samarapala88  ...                                 (0.0, 0.0)\n",
              "15          WimalWL  ...  (0.21428571428571427, 0.6428571428571429)\n",
              "16      NandapalaNA  ...                                 (0.2, 0.6)\n",
              "17       PalithaP44  ...                  (0.7, 0.6000000000000001)\n",
              "18        SamanS753  ...                  (0.6000000000000001, 0.9)\n",
              "19         BimalBBB  ...                                 (0.7, 0.9)\n",
              "20       RajithaR22  ...                                 (0.8, 0.9)\n",
              "21       KolithaKO3  ...  (0.35714285714285715, 0.8214285714285714)\n",
              "22   RathnasiriR456  ...                               (0.75, 0.75)\n",
              "23   SiriwardanaSDF  ...                  (0.6000000000000001, 0.9)\n",
              "\n",
              "[24 rows x 3 columns]"
            ]
          },
          "metadata": {
            "tags": []
          },
          "execution_count": 226
        }
      ]
    },
    {
      "cell_type": "code",
      "metadata": {
        "colab": {
          "base_uri": "https://localhost:8080/"
        },
        "id": "zFi4Ii0M7uU0",
        "outputId": "d0843081-33a3-4f5d-cfdc-d7c20e8c46ff"
      },
      "source": [
        "data.iloc[0][2]\n"
      ],
      "execution_count": 227,
      "outputs": [
        {
          "output_type": "execute_result",
          "data": {
            "text/plain": [
              "Sentiment(polarity=0.0, subjectivity=0.0)"
            ]
          },
          "metadata": {
            "tags": []
          },
          "execution_count": 227
        }
      ]
    },
    {
      "cell_type": "code",
      "metadata": {
        "id": "yrEp8Gqo94LL"
      },
      "source": [
        "sentiment_series = data['sentiment'].tolist()\n",
        "\n",
        "columns = ['polarity', 'subjectivity']\n",
        "\n",
        "sentiment_score = pd.DataFrame(sentiment_series, columns=columns, index=data.index)"
      ],
      "execution_count": 230,
      "outputs": []
    },
    {
      "cell_type": "code",
      "metadata": {
        "colab": {
          "base_uri": "https://localhost:8080/"
        },
        "id": "JJznxr8C-AhM",
        "outputId": "77a84245-7354-401d-e1fe-059f4593bccc"
      },
      "source": [
        "len(data2)"
      ],
      "execution_count": 232,
      "outputs": [
        {
          "output_type": "execute_result",
          "data": {
            "text/plain": [
              "24"
            ]
          },
          "metadata": {
            "tags": []
          },
          "execution_count": 232
        }
      ]
    },
    {
      "cell_type": "code",
      "metadata": {
        "colab": {
          "base_uri": "https://localhost:8080/",
          "height": 195
        },
        "id": "ZVy3qQmCAgfE",
        "outputId": "fb44cd03-2745-4247-accf-158f6b3c920e"
      },
      "source": [
        "data_final = pd.concat([data,sentiment_score], axis=1)\n",
        "data_final.head()"
      ],
      "execution_count": 233,
      "outputs": [
        {
          "output_type": "execute_result",
          "data": {
            "text/html": [
              "<div>\n",
              "<style scoped>\n",
              "    .dataframe tbody tr th:only-of-type {\n",
              "        vertical-align: middle;\n",
              "    }\n",
              "\n",
              "    .dataframe tbody tr th {\n",
              "        vertical-align: top;\n",
              "    }\n",
              "\n",
              "    .dataframe thead th {\n",
              "        text-align: right;\n",
              "    }\n",
              "</style>\n",
              "<table border=\"1\" class=\"dataframe\">\n",
              "  <thead>\n",
              "    <tr style=\"text-align: right;\">\n",
              "      <th></th>\n",
              "      <th>UserName</th>\n",
              "      <th>Comment</th>\n",
              "      <th>sentiment</th>\n",
              "      <th>polarity</th>\n",
              "      <th>subjectivity</th>\n",
              "    </tr>\n",
              "  </thead>\n",
              "  <tbody>\n",
              "    <tr>\n",
              "      <th>0</th>\n",
              "      <td>KarunarathneKK</td>\n",
              "      <td>['work', 'neat']</td>\n",
              "      <td>(0.0, 0.0)</td>\n",
              "      <td>0.0</td>\n",
              "      <td>0.0</td>\n",
              "    </tr>\n",
              "    <tr>\n",
              "      <th>1</th>\n",
              "      <td>NimalNL</td>\n",
              "      <td>['works', 'dedicatively']</td>\n",
              "      <td>(0.0, 0.0)</td>\n",
              "      <td>0.0</td>\n",
              "      <td>0.0</td>\n",
              "    </tr>\n",
              "    <tr>\n",
              "      <th>2</th>\n",
              "      <td>ThilakarathneTT</td>\n",
              "      <td>['works', 'time']</td>\n",
              "      <td>(0.0, 0.0)</td>\n",
              "      <td>0.0</td>\n",
              "      <td>0.0</td>\n",
              "    </tr>\n",
              "    <tr>\n",
              "      <th>3</th>\n",
              "      <td>KamalK1</td>\n",
              "      <td>['works', 'arent', 'good']</td>\n",
              "      <td>(0.7, 0.6000000000000001)</td>\n",
              "      <td>0.7</td>\n",
              "      <td>0.6</td>\n",
              "    </tr>\n",
              "    <tr>\n",
              "      <th>4</th>\n",
              "      <td>NamalNA</td>\n",
              "      <td>['works', 'dedicatively']</td>\n",
              "      <td>(0.0, 0.0)</td>\n",
              "      <td>0.0</td>\n",
              "      <td>0.0</td>\n",
              "    </tr>\n",
              "  </tbody>\n",
              "</table>\n",
              "</div>"
            ],
            "text/plain": [
              "          UserName                     Comment  ... polarity  subjectivity\n",
              "0   KarunarathneKK            ['work', 'neat']  ...      0.0           0.0\n",
              "1          NimalNL   ['works', 'dedicatively']  ...      0.0           0.0\n",
              "2  ThilakarathneTT           ['works', 'time']  ...      0.0           0.0\n",
              "3          KamalK1  ['works', 'arent', 'good']  ...      0.7           0.6\n",
              "4          NamalNA   ['works', 'dedicatively']  ...      0.0           0.0\n",
              "\n",
              "[5 rows x 5 columns]"
            ]
          },
          "metadata": {
            "tags": []
          },
          "execution_count": 233
        }
      ]
    },
    {
      "cell_type": "code",
      "metadata": {
        "colab": {
          "base_uri": "https://localhost:8080/"
        },
        "id": "ssg4Lc48HN46",
        "outputId": "29b2ec3a-c9c2-498d-d3d3-5ec3b760798c"
      },
      "source": [
        "type(data_final)"
      ],
      "execution_count": 260,
      "outputs": [
        {
          "output_type": "execute_result",
          "data": {
            "text/plain": [
              "pandas.core.frame.DataFrame"
            ]
          },
          "metadata": {
            "tags": []
          },
          "execution_count": 260
        }
      ]
    },
    {
      "cell_type": "code",
      "metadata": {
        "colab": {
          "base_uri": "https://localhost:8080/"
        },
        "id": "vt7t4qgELzuM",
        "outputId": "2144be9e-4b23-44cf-8a49-d9d514dd0f7b"
      },
      "source": [
        "len(data_final)"
      ],
      "execution_count": 310,
      "outputs": [
        {
          "output_type": "execute_result",
          "data": {
            "text/plain": [
              "24"
            ]
          },
          "metadata": {
            "tags": []
          },
          "execution_count": 310
        }
      ]
    },
    {
      "cell_type": "code",
      "metadata": {
        "colab": {
          "base_uri": "https://localhost:8080/",
          "height": 35
        },
        "id": "NrdHFuo6HcPo",
        "outputId": "d8e00075-31a1-4937-f680-95b925fec197"
      },
      "source": [
        "data_final.iloc[1][0]"
      ],
      "execution_count": 262,
      "outputs": [
        {
          "output_type": "execute_result",
          "data": {
            "application/vnd.google.colaboratory.intrinsic+json": {
              "type": "string"
            },
            "text/plain": [
              "'NimalNL'"
            ]
          },
          "metadata": {
            "tags": []
          },
          "execution_count": 262
        }
      ]
    },
    {
      "cell_type": "code",
      "metadata": {
        "id": "fynrxgO9PuDl"
      },
      "source": [
        "user_wise_polarity = []"
      ],
      "execution_count": 343,
      "outputs": []
    },
    {
      "cell_type": "code",
      "metadata": {
        "id": "lgsEqfS-PYR1"
      },
      "source": [
        "for i in zip(data_final['UserName'], data_final['polarity']):\n",
        "  user_wise_polarity.append(i)"
      ],
      "execution_count": 344,
      "outputs": []
    },
    {
      "cell_type": "code",
      "metadata": {
        "colab": {
          "base_uri": "https://localhost:8080/"
        },
        "id": "oGdpZTLrPXPm",
        "outputId": "10c871e1-050b-4d47-e656-e0da058123d1"
      },
      "source": [
        "print(user_wise_polarity)"
      ],
      "execution_count": 346,
      "outputs": [
        {
          "output_type": "stream",
          "text": [
            "[('KarunarathneKK', 0.0), ('NimalNL', 0.0), ('ThilakarathneTT', 0.0), ('KamalK1', 0.7), ('NamalNA', 0.0), ('SiripalaSI', 0.0), ('SomapalaSO', 0.7), ('Somadhasa55', 0.0), ('SanathS11', -0.6999999999999998), ('KumaraKA', 0.0), ('SiridhasaSSS', 0.6), ('ThilakadhasaTH', 0.7), ('Sumanadhasa65', 0.5), ('WimaladasaCR', 0.0), ('Samarapala88', 0.0), ('WimalWL', 0.21428571428571427), ('NandapalaNA', 0.2), ('PalithaP44', 0.7), ('SamanS753', 0.6000000000000001), ('BimalBBB', 0.7), ('RajithaR22', 0.8), ('KolithaKO3', 0.35714285714285715), ('RathnasiriR456', 0.75), ('SiriwardanaSDF', 0.6000000000000001)]\n"
          ],
          "name": "stdout"
        }
      ]
    },
    {
      "cell_type": "code",
      "metadata": {
        "colab": {
          "base_uri": "https://localhost:8080/"
        },
        "id": "MF2Hcr-oQ4ZA",
        "outputId": "01da6322-62dc-494a-bcd0-d19cc97f45f4"
      },
      "source": [
        "user_wise_polarity[0][1]"
      ],
      "execution_count": 347,
      "outputs": [
        {
          "output_type": "execute_result",
          "data": {
            "text/plain": [
              "0.0"
            ]
          },
          "metadata": {
            "tags": []
          },
          "execution_count": 347
        }
      ]
    },
    {
      "cell_type": "code",
      "metadata": {
        "id": "ek36UqxaRD0e"
      },
      "source": [
        ""
      ],
      "execution_count": null,
      "outputs": []
    }
  ]
}